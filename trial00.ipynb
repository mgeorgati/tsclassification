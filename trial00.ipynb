{
 "cells": [
  {
   "cell_type": "code",
   "execution_count": 6,
   "metadata": {},
   "outputs": [],
   "source": [
    "#### Time series classification\n",
    "#Implementation of Time Series Classification from Scratch with Deep Neural Networks: A Strong Baseline (2016, arXiv) in PyTorch by using a skorch wrapper \n",
    "#In this script, we are using a randomly generated dataset\n",
    "\n",
    "#Error while fitting\n",
    "#Authors: Marina Georgati, Hao Miao\n",
    "\n",
    "import numpy as np\n",
    "from src import tsc\n",
    "# import our modules\n",
    "from src import model\n",
    "# Import SKORCH NN classifier\n",
    "from skorch import NeuralNetClassifier\n",
    "import torch\n",
    "from sklearn.datasets import make_classification\n"
   ]
  },
  {
   "cell_type": "code",
   "execution_count": null,
   "metadata": {},
   "outputs": [],
   "source": [
    "X, y = make_classification(1000, 20, n_informative=10, random_state=0)\n",
    "X = X.astype(np.float32)\n",
    "y = y.astype(np.int64)\n",
    "\n",
    "# The Neural Net is initialized with fixed hyperparameters\n",
    "nn = NeuralNetClassifier(\n",
    "    model._ConvNetModel(1000, 20), \n",
    "    max_epochs=10, \n",
    "    lr=0.01, \n",
    "    batch_size=12, \n",
    "    optimizer=torch.optim.SGD,\n",
    "    # Shuffle training data on each epoch\n",
    "    iterator_train__shuffle=False )# optim.RMSprop)\n",
    "    \n",
    "nn.fit(X, y)"
   ]
  },
  {
   "cell_type": "code",
   "execution_count": null,
   "metadata": {},
   "outputs": [],
   "source": [
    "#OR DIFFERENTLY\n",
    "X, y = make_classification(1000, 20, n_informative=10, random_state=0)\n",
    "X = X.astype(np.float32)\n",
    "y = y.astype(np.int64)\n",
    "mod = tsc.ConvNet(1000,20)\n",
    "mod.fit(X,y)"
   ]
  },
  {
   "cell_type": "code",
   "execution_count": null,
   "metadata": {},
   "outputs": [],
   "source": [
    "y_proba = nn.predict_proba(X)\n",
    "print(y_proba)"
   ]
  }
 ],
 "metadata": {
  "interpreter": {
   "hash": "0d4520545ca233a18fcbfaf6de76cf00aab1835d3dba167ce44a459e1af2c853"
  },
  "kernelspec": {
   "display_name": "Python 3.8.13 ('imla')",
   "language": "python",
   "name": "python3"
  },
  "language_info": {
   "codemirror_mode": {
    "name": "ipython",
    "version": 3
   },
   "file_extension": ".py",
   "mimetype": "text/x-python",
   "name": "python",
   "nbconvert_exporter": "python",
   "pygments_lexer": "ipython3",
   "version": "3.8.13"
  },
  "orig_nbformat": 4
 },
 "nbformat": 4,
 "nbformat_minor": 2
}
